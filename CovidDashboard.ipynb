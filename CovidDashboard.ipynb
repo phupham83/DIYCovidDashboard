{
 "metadata": {
  "language_info": {
   "codemirror_mode": {
    "name": "ipython",
    "version": 3
   },
   "file_extension": ".py",
   "mimetype": "text/x-python",
   "name": "python",
   "nbconvert_exporter": "python",
   "pygments_lexer": "ipython3",
   "version": "3.8.3-final"
  },
  "orig_nbformat": 2,
  "kernelspec": {
   "name": "python3",
   "display_name": "Python 3.8.3 64-bit",
   "metadata": {
    "interpreter": {
     "hash": "2db524e06e9f5f4ffedc911c917cb75e12dbc923643829bf417064a77eb14d37"
    }
   }
  }
 },
 "nbformat": 4,
 "nbformat_minor": 2,
 "cells": [
  {
   "source": [
    "# DIY Covid-19 Dashboard\n",
    "\n",
    "The first graph in the dashboard shows the amount of daily Covid cases, deaths and hospital admissions for the four countries UK, Wales, Northern Ireland and Scotland"
   ],
   "cell_type": "markdown",
   "metadata": {}
  },
  {
   "source": [
    "# Graph keys\n",
    "\n",
    "Cases: The number of cases that are published on the date.\n",
    "\n",
    "Hospital: The number of hospital admission that are published on the date.  \n",
    "\n",
    "Death: the cumulative number of deaths that occurred after 28 days of a positive test.\n",
    "\n",
    "The data provided is accurate as of 26/11/2020. To get the lastest data please use the refresh function\n"
   ],
   "cell_type": "markdown",
   "metadata": {}
  },
  {
   "source": [
    "# Times series of Cases, Hospitalisation and Deaths per Day"
   ],
   "cell_type": "markdown",
   "metadata": {}
  },
  {
   "cell_type": "code",
   "execution_count": 2,
   "metadata": {},
   "outputs": [
    {
     "output_type": "display_data",
     "data": {
      "text/plain": "Output()",
      "application/vnd.jupyter.widget-view+json": {
       "version_major": 2,
       "version_minor": 0,
       "model_id": "cfc39f6a448e4ff69938a8830b552aa5"
      }
     },
     "metadata": {}
    },
    {
     "output_type": "display_data",
     "data": {
      "text/plain": "HBox(children=(Output(), VBox(children=(SelectMultiple(description='Stats:', index=(0, 1, 2), options=('cases'…",
      "application/vnd.jupyter.widget-view+json": {
       "version_major": 2,
       "version_minor": 0,
       "model_id": "a2de27d069bc488f8c4025202f00dbdd"
      }
     },
     "metadata": {}
    }
   ],
   "source": [
    "from uk_covid19 import Cov19API\n",
    "import json\n",
    "import pandas as pd\n",
    "import matplotlib.pyplot as plt\n",
    "import ipywidgets as wdg\n",
    "import datetime\n",
    "\n",
    "%matplotlib inline\n",
    "plt.rcParams['figure.dpi'] = 100\n",
    "\n",
    "def getDataChart1(country):\n",
    "    countryChoice = \"areaName=\" + str(country)\n",
    "    filters = [\"areaType=nation\", countryChoice]\n",
    "    \n",
    "    structure = {\n",
    "    \"date\": \"date\",\n",
    "    \"cases\": \"newCasesByPublishDate\",\n",
    "    \"hospital\": \"newAdmissions\",\n",
    "    \"deaths\": \"cumDeaths28DaysByDeathDateRate\"}\n",
    "\n",
    "    api = Cov19API(filters=filters, structure=structure)\n",
    "    timeseries = api.get_json()\n",
    "    x = \"timeseries\" + str(country) + \".json\"\n",
    "    with open(x, \"wt\") as OUTF:\n",
    "        json.dump(timeseries, OUTF)\n",
    "\n",
    "def parse_date(datestring):\n",
    "    return pd.to_datetime(datestring, format=\"%Y-%m-%d\")\n",
    "\n",
    "def wrangleDataChart1(jsonData):\n",
    "    with open(str(jsonData), \"rt\") as INFILE:\n",
    "        data=json.load(INFILE)\n",
    "    datalist = data[\"data\"]\n",
    "    dates = [dictionary['date'] for dictionary in datalist ]\n",
    "    dates.sort()\n",
    "    sortedLists = [dates, datalist]\n",
    "    return sortedLists\n",
    "\n",
    "def createDataframeChart1(country):\n",
    "    x = \"timeseries\" + str(country) + \".json\"\n",
    "    sortedList = wrangleDataChart1(x)\n",
    "    dates = sortedList[0]\n",
    "    datalist =sortedList[1]\n",
    "    startdate = parse_date(dates[0])\n",
    "    enddate = parse_date(dates[-1])\n",
    "\n",
    "    index=pd.date_range(startdate, enddate, freq='D')\n",
    "    timeseriesdf=pd.DataFrame(index=index, columns=['cases', 'hospital', 'deaths'])\n",
    "    \n",
    "    for entry in datalist:\n",
    "        date = parse_date(entry[\"date\"])\n",
    "        for column in ['cases', 'hospital', 'deaths']:\n",
    "            if pd.isna(timeseriesdf.loc[date, column]):\n",
    "                value= float(entry[column]) if entry[column]!=None else 0.0\n",
    "                timeseriesdf.loc[date, column]=value\n",
    "    timeseriesdf.fillna(0.0, inplace=True)\n",
    "    y = \"timeseriesdf\" + str(country) + \".pkl\"\n",
    "    timeseriesdf.to_pickle(y)\n",
    "\n",
    "series = wdg.SelectMultiple(\n",
    "    options=['cases', 'hospital', 'deaths'],\n",
    "    value=['cases', 'hospital', 'deaths'],\n",
    "    rows=3,\n",
    "    description='Stats:',\n",
    "    disabled=False\n",
    ")\n",
    "\n",
    "scale = wdg.RadioButtons(\n",
    "    options=['linear', 'log'],\n",
    "    description='Scale:',\n",
    "    disabled=False\n",
    ")\n",
    "\n",
    "country = wdg.RadioButtons(\n",
    "    options=['England', 'Scotland', 'Wales', 'Northern Ireland'],\n",
    "    value = 'England',\n",
    "    description='Countries:',\n",
    "    disabled=False\n",
    ")\n",
    "\n",
    "apibutton = wdg.Button(\n",
    "    description = \"Refresh data\",\n",
    "    disable = False,\n",
    "    button_style = \"\",\n",
    "    tooltip = \"Click to get the lastest Public Health England data\",\n",
    "    icon = \"refresh\"\n",
    ")\n",
    "\n",
    "output = wdg.Output()\n",
    "\n",
    "@output.capture()\n",
    "def on_button_clicked(button):\n",
    "    x = datetime.datetime.now()\n",
    "    y = \"This is the lastest data as of \" + str(x) + \"aaaaaaa\"\n",
    "    print(y, end=\"\\r\")\n",
    "    \n",
    "    \n",
    "\n",
    "def access_api(button):\n",
    "    countryChoice = country.value\n",
    "    getDataChart1(countryChoice)\n",
    "    createDataframeChart1(countryChoice)\n",
    "    y = \"timeseriesdf\" + str(countryChoice) + \".pkl\"\n",
    "    timeseriesdf=pd.read_pickle(y)\n",
    "    current=scale.value\n",
    "    if current==scale.options[0]:\n",
    "        other=scale.options[1]\n",
    "    else:\n",
    "        other=scale.options[0]\n",
    "    scale.value=other \n",
    "    scale.value=current \n",
    "    \n",
    "   \n",
    "apibutton.on_click(access_api)\n",
    "apibutton.on_click(on_button_clicked)\n",
    "display(output)\n",
    "\n",
    "def timeseries_graph(gcols, gscale, country):\n",
    "    createDataframeChart1(country)\n",
    "    y = \"timeseriesdf\" + str(country) + \".pkl\"\n",
    "    timeseriesdf=pd.read_pickle(y)\n",
    "    if gscale=='linear':\n",
    "        logscale=False\n",
    "    else:\n",
    "        logscale=True\n",
    "    ncols=len(gcols)\n",
    "\n",
    "    if ncols>0:\n",
    "        timeseriesdf[list(gcols)].plot(logy=logscale)\n",
    "    else:\n",
    "        print(\"Click to select data for graph\")\n",
    "        print(\"(CTRL-Click to select more than one category)\")\n",
    "\n",
    "def createChart1():\n",
    "    graph=wdg.interactive_output(timeseries_graph, {'gcols': series, 'gscale': scale, 'country': country})\n",
    "    \n",
    "    controls = wdg.VBox([series, scale, country, apibutton])\n",
    "    form=wdg.HBox([graph, controls])\n",
    "    display(form)\n",
    "\n",
    "createChart1()"
   ]
  },
  {
   "source": [
    "(C) 2020 Phu Pham (ec20104@qmul.ac.uk - Student ID: 200773869), all rights reserved"
   ],
   "cell_type": "markdown",
   "metadata": {}
  }
 ]
}